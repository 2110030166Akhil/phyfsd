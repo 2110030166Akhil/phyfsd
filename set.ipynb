{
  "nbformat": 4,
  "nbformat_minor": 0,
  "metadata": {
    "colab": {
      "name": "set.ipynb",
      "provenance": [],
      "authorship_tag": "ABX9TyPA/6PnXHhEu1hR7b2FopN3",
      "include_colab_link": true
    },
    "kernelspec": {
      "name": "python3",
      "display_name": "Python 3"
    },
    "language_info": {
      "name": "python"
    }
  },
  "cells": [
    {
      "cell_type": "markdown",
      "metadata": {
        "id": "view-in-github",
        "colab_type": "text"
      },
      "source": [
        "<a href=\"https://colab.research.google.com/github/2110030166Akhil/phyfsd/blob/main/set.ipynb\" target=\"_parent\"><img src=\"https://colab.research.google.com/assets/colab-badge.svg\" alt=\"Open In Colab\"/></a>"
      ]
    },
    {
      "cell_type": "code",
      "execution_count": 2,
      "metadata": {
        "colab": {
          "base_uri": "https://localhost:8080/"
        },
        "id": "qjbmnu7NRAMJ",
        "outputId": "68332931-3b52-4175-e7bb-3f39242996db"
      },
      "outputs": [
        {
          "output_type": "stream",
          "name": "stdout",
          "text": [
            "{1, 2, 3, 4, 5}\n"
          ]
        }
      ],
      "source": [
        "set1={1,2,3,4,5,1,2}\n",
        "print(set1)"
      ]
    },
    {
      "cell_type": "code",
      "source": [
        "eset={}\n",
        "print(type(eset))\n",
        "print(eset)"
      ],
      "metadata": {
        "colab": {
          "base_uri": "https://localhost:8080/"
        },
        "id": "vqcTLVk6RV2M",
        "outputId": "1d01dce6-69b7-48c1-838c-e90331f52e7f"
      },
      "execution_count": 4,
      "outputs": [
        {
          "output_type": "stream",
          "name": "stdout",
          "text": [
            "<class 'dict'>\n",
            "{}\n"
          ]
        }
      ]
    },
    {
      "cell_type": "code",
      "source": [
        "set2={1.0,\"Akhil\"}\n",
        "print(set2)"
      ],
      "metadata": {
        "colab": {
          "base_uri": "https://localhost:8080/"
        },
        "id": "53zWyJiwRnvC",
        "outputId": "8ad1f20d-bfbb-4ce9-9500-198cf978f456"
      },
      "execution_count": 5,
      "outputs": [
        {
          "output_type": "stream",
          "name": "stdout",
          "text": [
            "{1.0, 'Akhil'}\n"
          ]
        }
      ]
    },
    {
      "cell_type": "code",
      "source": [
        "eset={}\n",
        "eset2=set()\n",
        "print(eset2)\n"
      ],
      "metadata": {
        "colab": {
          "base_uri": "https://localhost:8080/"
        },
        "id": "ZLFC9TBnSE2T",
        "outputId": "76de05c1-6fc7-4dbb-afde-06d80716dc24"
      },
      "execution_count": 10,
      "outputs": [
        {
          "output_type": "stream",
          "name": "stdout",
          "text": [
            "set()\n"
          ]
        }
      ]
    },
    {
      "cell_type": "code",
      "source": [
        "set3={1,'akhi',(1,2,3)}\n",
        "print(set3)"
      ],
      "metadata": {
        "colab": {
          "base_uri": "https://localhost:8080/"
        },
        "id": "abL7-0DpWj4N",
        "outputId": "ef53d9da-64b4-41db-dc46-3f9a5e418605"
      },
      "execution_count": 7,
      "outputs": [
        {
          "output_type": "stream",
          "name": "stdout",
          "text": [
            "{1, 'akhi', (1, 2, 3)}\n"
          ]
        }
      ]
    },
    {
      "cell_type": "code",
      "source": [
        "set4=set([1,3,5])\n",
        "print(set4)"
      ],
      "metadata": {
        "colab": {
          "base_uri": "https://localhost:8080/"
        },
        "id": "vu91DTCwWy5w",
        "outputId": "80d61c72-1546-4811-ae1a-70d59b73d23e"
      },
      "execution_count": 11,
      "outputs": [
        {
          "output_type": "stream",
          "name": "stdout",
          "text": [
            "{1, 3, 5}\n"
          ]
        }
      ]
    },
    {
      "cell_type": "code",
      "source": [
        "set5=set()\n",
        "set5.update([1,3])\n",
        "set5.update((2,))\n",
        "set5.update('akhil')\n",
        "print(set5)\n",
        "set5.remove('a')\n",
        "print(set5)"
      ],
      "metadata": {
        "colab": {
          "base_uri": "https://localhost:8080/"
        },
        "id": "CDdItE1Pa4Zg",
        "outputId": "186ade56-54b1-4c94-8dfe-fa013bdd2773"
      },
      "execution_count": 20,
      "outputs": [
        {
          "output_type": "stream",
          "name": "stdout",
          "text": [
            "{1, 'k', 2, 3, 'l', 'h', 'a', 'i'}\n",
            "{1, 'k', 2, 3, 'l', 'h', 'i'}\n"
          ]
        }
      ]
    },
    {
      "cell_type": "code",
      "source": [
        "set6=set('apple')\n",
        "print('a' in set6)"
      ],
      "metadata": {
        "colab": {
          "base_uri": "https://localhost:8080/"
        },
        "id": "g9RjrSlMc7sP",
        "outputId": "a7bbb548-315e-4641-a91f-dc7f537750bc"
      },
      "execution_count": 23,
      "outputs": [
        {
          "output_type": "stream",
          "name": "stdout",
          "text": [
            "True\n"
          ]
        }
      ]
    },
    {
      "cell_type": "code",
      "source": [
        "setA={1,2,3,4,5}\n",
        "setB={4,5,6,7,8}\n",
        "print(\"diff: \",setA -setB)\n",
        "print(\"diff: \",setB -setA)\n",
        "print(\"intersection \",setA&setB)\n",
        "print(\"union \",setA|setB)\n",
        "print(\"symmetric dfference \",setA^setB)"
      ],
      "metadata": {
        "colab": {
          "base_uri": "https://localhost:8080/"
        },
        "id": "dn0OeJUXjSGq",
        "outputId": "f123193f-aa01-4e0d-8c80-ab2bc0140a34"
      },
      "execution_count": 31,
      "outputs": [
        {
          "output_type": "stream",
          "name": "stdout",
          "text": [
            "diff:  {1, 2, 3}\n",
            "diff:  {8, 6, 7}\n",
            "intersection  {4, 5}\n",
            "union  {1, 2, 3, 4, 5, 6, 7, 8}\n",
            "symmetric dfference  {1, 2, 3, 6, 7, 8}\n"
          ]
        }
      ]
    }
  ]
}